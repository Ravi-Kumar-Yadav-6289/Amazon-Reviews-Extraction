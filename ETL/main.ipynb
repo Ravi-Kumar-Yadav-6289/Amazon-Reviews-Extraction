{
 "cells": [
  {
   "cell_type": "code",
   "execution_count": null,
   "metadata": {},
   "outputs": [],
   "source": [
    "import pandas as pd\n",
    "import numpy as np\n",
    "import matplotlib.pyplot as plt\n",
    "from sklearn import linear_model\n",
    "%matplotlib inline"
   ]
  },
  {
   "cell_type": "code",
   "execution_count": 26,
   "metadata": {},
   "outputs": [
    {
     "name": "stdout",
     "output_type": "stream",
     "text": [
      "200\n",
      "{'studies': [{'protocolSection': {'identificationModule': {'nctId': 'NCT04622865', 'briefTitle': 'Masitinib Combined With Isoquercetin and Best Supportive Care in Hospitalized Patients With Moderate and Severe COVID-19'}}}, {'protocolSection': {'identificationModule': {'nctId': 'NCT04341766', 'briefTitle': 'Evolution of Pulmonary Ultrasound in Patients Hospitalized for Covid (Coronavirus Disease) 19'}}}, {'protocolSection': {'identificationModule': {'nctId': 'NCT04552366', 'briefTitle': 'A Clinical Trial of a Recombinant Adenovirus 5 Vectored COVID-19 Vaccine (Ad5-nCoV) With Two Doses in Healthy Adults'}}}, {'protocolSection': {'identificationModule': {'nctId': 'NCT04800965', 'briefTitle': 'Text-based Interventions to Promote COVID-19 Vaccinations'}}}, {'protocolSection': {'identificationModule': {'nctId': 'NCT05116865', 'briefTitle': 'A Study to Assess the Safety, Tolerability and Pharmacokinetics of Inhaled HH-120 Aerosol in Healthy Volunteers'}}}, {'protocolSection': {'identificationModule': {'nctId': 'NCT04492865', 'briefTitle': 'MSCT Chest in Suspected COVID-19 Patients'}}}, {'protocolSection': {'identificationModule': {'nctId': 'NCT05037266', 'briefTitle': 'Cohort Assessing the Immunogenicity and the Safety of the COVID-19 Vaccine Janssen in Healthy Volunteers Based on 2 Age Groups: 65 Years or Older - 55 to 65 Years. Covicompare-Janssen'}}}, {'protocolSection': {'identificationModule': {'nctId': 'NCT04831866', 'briefTitle': 'COVID-19 Surveillance and Exposure Testing in School Communities'}}}, {'protocolSection': {'identificationModule': {'nctId': 'NCT06086366', 'briefTitle': 'Presynaptic Imaging in Major Depressive Episodes After COVID-19'}}}, {'protocolSection': {'identificationModule': {'nctId': 'NCT05358665', 'briefTitle': 'The Effects of Long-Term Mask Use in the Pandemic Period'}}}], 'nextPageToken': 'NF0g5JeBlPQ'}\n"
     ]
    }
   ],
   "source": [
    "import requests\n",
    "import pandas as pd\n",
    "\n",
    "# Define the base URL and search parameters\n",
    "base_url = \"https://clinicaltrials.gov/api/v2/studies\"\n",
    "params = {\n",
    "    \"format\": \"json\",\n",
    "    \"query.cond\": \"SARS OR COVID-19\",\n",
    "    \"fields\": \"NCTId,BriefTitle\"\n",
    "}\n",
    "#curl -X GET \"https://clinicaltrials.gov/api/v2/studies?format=json&query.cond=sars+or+covid+19&fields=NCTId%7CBriefTitle%7COverallStatus%7CHasResults\" \\\n",
    " #-H \"accept: application/json\" \n",
    "\n",
    "\n",
    "# Send the request to the API\n",
    "response = requests.get(base_url,params=params)\n",
    "print(response.status_code)\n",
    "data = response.json()\n",
    "print(data)\n",
    "\n",
    "\n",
    "# Extract relevant fields from the response\n",
    "# studies = data['StudyFieldsResponse']['Studies']\n",
    "\n",
    "# # Convert to a pandas DataFrame for better visualization and analysis\n",
    "# df = pd.DataFrame(studies)\n",
    "\n",
    "# # Display the first few rows of the DataFrame\n",
    "# print(df.head())\n"
   ]
  },
  {
   "cell_type": "code",
   "execution_count": null,
   "metadata": {},
   "outputs": [],
   "source": []
  }
 ],
 "metadata": {
  "kernelspec": {
   "display_name": "ml_engine",
   "language": "python",
   "name": "python3"
  },
  "language_info": {
   "codemirror_mode": {
    "name": "ipython",
    "version": 3
   },
   "file_extension": ".py",
   "mimetype": "text/x-python",
   "name": "python",
   "nbconvert_exporter": "python",
   "pygments_lexer": "ipython3",
   "version": "3.12.2"
  }
 },
 "nbformat": 4,
 "nbformat_minor": 2
}
