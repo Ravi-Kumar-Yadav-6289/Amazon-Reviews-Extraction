{
 "cells": [
  {
   "cell_type": "code",
   "execution_count": 9,
   "metadata": {},
   "outputs": [],
   "source": [
    "import pandas as pd\n",
    "import numpy as np\n",
    "from sklearn.model_selection import train_test_split\n",
    "from sklearn.model_selection import GridSearchCV\n",
    "from sklearn.metrics import balanced_accuracy_score, roc_auc_score, make_scorer, confusion_matrix\n",
    "import matplotlib.pyplot as plt\n",
    "from sklearn import linear_model\n",
    "import xgboost as xgb\n",
    "from functools import reduce\n",
    "%matplotlib inline"
   ]
  },
  {
   "cell_type": "code",
   "execution_count": 10,
   "metadata": {},
   "outputs": [],
   "source": [
    "df_demo=pd.read_excel(r'D:\\ML\\xgboost_test\\archive\\Demographics.xlsx')\n",
    "df_loc=pd.read_excel(r'D:\\ML\\xgboost_test\\archive\\Location.xlsx')\n",
    "df_pop=pd.read_excel(r'D:\\ML\\xgboost_test\\archive\\Population.xlsx')\n",
    "df_ser=pd.read_excel(r'D:\\ML\\xgboost_test\\archive\\Services.xlsx')\n",
    "df_stat=pd.read_excel(r'D:\\ML\\xgboost_test\\archive\\Status.xlsx')\n"
   ]
  },
  {
   "cell_type": "code",
   "execution_count": 22,
   "metadata": {},
   "outputs": [],
   "source": [
    "df_demo.rename(columns={'Count':'demo_count'},inplace=True)\n",
    "df_loc.rename(columns={'Count':'count_loc'},inplace=True)\n",
    "df_ser.rename(columns={'Count':'count_service'},inplace=True)\n",
    "df_stat.rename(columns={'Count':'count_stat'},inplace=True)"
   ]
  },
  {
   "cell_type": "code",
   "execution_count": 24,
   "metadata": {},
   "outputs": [],
   "source": [
    "data_frames=[df_demo,df_loc,df_ser,df_stat]"
   ]
  },
  {
   "cell_type": "code",
   "execution_count": 25,
   "metadata": {},
   "outputs": [],
   "source": [
    "df_merged = reduce(lambda  left,right: pd.merge(left,right,on=['Customer ID']), data_frames)"
   ]
  },
  {
   "cell_type": "code",
   "execution_count": null,
   "metadata": {},
   "outputs": [],
   "source": [
    "df_merged.to_csv(\"customer_churn_dataset.csv\")"
   ]
  },
  {
   "cell_type": "code",
   "execution_count": null,
   "metadata": {},
   "outputs": [],
   "source": []
  }
 ],
 "metadata": {
  "kernelspec": {
   "display_name": "ml_engine",
   "language": "python",
   "name": "python3"
  },
  "language_info": {
   "codemirror_mode": {
    "name": "ipython",
    "version": 3
   },
   "file_extension": ".py",
   "mimetype": "text/x-python",
   "name": "python",
   "nbconvert_exporter": "python",
   "pygments_lexer": "ipython3",
   "version": "3.12.2"
  }
 },
 "nbformat": 4,
 "nbformat_minor": 2
}
